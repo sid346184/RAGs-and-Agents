{
 "cells": [
  {
   "cell_type": "code",
   "execution_count": 2,
   "id": "3cc7898c",
   "metadata": {},
   "outputs": [
    {
     "data": {
      "text/plain": [
       "[Document(metadata={'source': '1.txt'}, page_content='\"HI MY NAME IS SIDDHANT\"')]"
      ]
     },
     "execution_count": 2,
     "metadata": {},
     "output_type": "execute_result"
    }
   ],
   "source": [
    "# DATA INGESTION\n",
    "from langchain_community.document_loaders import TextLoader\n",
    "loader=TextLoader(\"1.txt\")\n",
    "text_document=loader.load()\n",
    "text_document"
   ]
  },
  {
   "cell_type": "code",
   "execution_count": 3,
   "id": "df0df971",
   "metadata": {},
   "outputs": [
    {
     "data": {
      "text/plain": [
       "False"
      ]
     },
     "execution_count": 3,
     "metadata": {},
     "output_type": "execute_result"
    }
   ],
   "source": [
    "import os\n",
    "from dotenv import load_dotenv\n",
    "load_dotenv()\n"
   ]
  },
  {
   "cell_type": "code",
   "execution_count": 4,
   "id": "b8ec2826",
   "metadata": {},
   "outputs": [
    {
     "name": "stderr",
     "output_type": "stream",
     "text": [
      "USER_AGENT environment variable not set, consider setting it to identify your requests.\n"
     ]
    }
   ],
   "source": [
    "from langchain_community.document_loaders import WebBaseLoader\n",
    "import bs4\n",
    "\n",
    "## load, chunk the content of webpage\n",
    "\n",
    "loader=WebBaseLoader(web_paths=(\"https://en.wikipedia.org/wiki/Disease\",),\n",
    "                     bs_kwargs=dict(parse_only=bs4.SoupStrainer(\n",
    "                     class_=\"mw-body\")\n",
    "                     ),)\n",
    "\n",
    "text_document=loader.load()\n"
   ]
  },
  {
   "cell_type": "code",
   "execution_count": 5,
   "id": "ab6c1b96",
   "metadata": {},
   "outputs": [],
   "source": [
    "from langchain_community.document_loaders import PyPDFLoader\n",
    "loader=PyPDFLoader('medical.pdf')\n",
    "Book_content=loader.load()"
   ]
  },
  {
   "cell_type": "code",
   "execution_count": 6,
   "id": "c31481f7",
   "metadata": {},
   "outputs": [],
   "source": [
    "### LOAD IS DONE"
   ]
  },
  {
   "cell_type": "code",
   "execution_count": 7,
   "id": "560d11d4",
   "metadata": {},
   "outputs": [],
   "source": [
    "from langchain.text_splitter import RecursiveCharacterTextSplitter\n",
    "text_splitter=RecursiveCharacterTextSplitter(chunk_size=1000,chunk_overlap=200)\n",
    "book_chunk=text_splitter.split_documents(Book_content)\n"
   ]
  },
  {
   "cell_type": "code",
   "execution_count": 8,
   "id": "12fcceb4",
   "metadata": {},
   "outputs": [],
   "source": [
    "## VECTOR EMBEDDINGS in CHROMADB"
   ]
  },
  {
   "cell_type": "code",
   "execution_count": null,
   "id": "7754bca0",
   "metadata": {},
   "outputs": [],
   "source": [
    "from langchain_community.embeddings import HuggingFaceEmbeddings\n",
    "from langchain_community.vectorstores import Chroma\n",
    "\n",
    "embeddings_model_name = \"sentence-transformers/all-MiniLM-L6-v2\"\n",
    "embeddings = HuggingFaceEmbeddings(model_name=embeddings_model_name)\n",
    "\n",
    "db = Chroma.from_documents(book_chunk, embeddings)\n"
   ]
  },
  {
   "cell_type": "code",
   "execution_count": null,
   "id": "5f92e276",
   "metadata": {},
   "outputs": [
    {
     "data": {
      "text/plain": [
       "'pharynx to be swallowed. Bacteria are then destroyed\\nby the hydrochloric acid in the stomach. The air that\\nreaches the lungs is almost entirely free of pathogens\\nand particulate pollution.\\nAnother location of ciliated epithelium in women is\\nthe lining of the fallopian tubes. The cilia here sweep\\nthe ovum, which has no means of self-locomotion,\\ntoward the uterus.\\nThe epithelial tissues are summarized in T able 4–1.\\nGLANDS\\nGlands are cells or organs that secrete something;\\nthat is, they produce a substance that has a function\\neither at that site or at a more distant site.\\nUnicellular Glands\\nUnicellular means “one cell.” Goblet cells are an\\nexample of unicellular glands. As mentioned earlier,\\ngoblet cells are found in the lining of the respiratory\\nand digestive tracts. Their secretion is mucus (see also\\nBox 4–1: Cystic Fibrosis).\\nMulticellular Glands\\nMost glands are made of many similar cells, or of a\\nvariety of cells with their secretions mingled into a'"
      ]
     },
     "execution_count": 40,
     "metadata": {},
     "output_type": "execute_result"
    }
   ],
   "source": [
    "query=\"what are Unicellular Glands\"\n",
    "result=db.similarity_search(query)\n",
    "result[0].page_content"
   ]
  },
  {
   "cell_type": "code",
   "execution_count": null,
   "id": "e88762f2",
   "metadata": {},
   "outputs": [],
   "source": [
    "## VECTOR EMBEDDINGS IN FAISSDB"
   ]
  },
  {
   "cell_type": "code",
   "execution_count": null,
   "id": "f13a7020",
   "metadata": {},
   "outputs": [],
   "source": [
    "from langchain_community.embeddings import HuggingFaceEmbeddings\n",
    "from langchain_community.vectorstores import FAISS\n",
    "\n",
    "embeddings_model_name = \"sentence-transformers/all-MiniLM-L6-v2\"\n",
    "embeddings = HuggingFaceEmbeddings(model_name=embeddings_model_name)\n",
    "\n",
    "db1=FAISS.from_documents(book_chunk,embeddings)\n"
   ]
  },
  {
   "cell_type": "code",
   "execution_count": null,
   "id": "37822e51",
   "metadata": {},
   "outputs": [
    {
     "name": "stderr",
     "output_type": "stream",
     "text": [
      "/Volumes/MySSD/Siddhant Gupta/projects/LANGCHAIN/Chatbot/venv/lib/python3.13/site-packages/torch/nn/modules/module.py:1762: FutureWarning: `encoder_attention_mask` is deprecated and will be removed in version 4.55.0 for `BertSdpaSelfAttention.forward`.\n",
      "  return forward_call(*args, **kwargs)\n"
     ]
    },
    {
     "data": {
      "text/plain": [
       "'pharynx to be swallowed. Bacteria are then destroyed\\nby the hydrochloric acid in the stomach. The air that\\nreaches the lungs is almost entirely free of pathogens\\nand particulate pollution.\\nAnother location of ciliated epithelium in women is\\nthe lining of the fallopian tubes. The cilia here sweep\\nthe ovum, which has no means of self-locomotion,\\ntoward the uterus.\\nThe epithelial tissues are summarized in T able 4–1.\\nGLANDS\\nGlands are cells or organs that secrete something;\\nthat is, they produce a substance that has a function\\neither at that site or at a more distant site.\\nUnicellular Glands\\nUnicellular means “one cell.” Goblet cells are an\\nexample of unicellular glands. As mentioned earlier,\\ngoblet cells are found in the lining of the respiratory\\nand digestive tracts. Their secretion is mucus (see also\\nBox 4–1: Cystic Fibrosis).\\nMulticellular Glands\\nMost glands are made of many similar cells, or of a\\nvariety of cells with their secretions mingled into a'"
      ]
     },
     "execution_count": 42,
     "metadata": {},
     "output_type": "execute_result"
    }
   ],
   "source": [
    "query=\"what are Unicellular Glands\"\n",
    "result1=db1.similarity_search(query)\n",
    "result1[0].page_content"
   ]
  },
  {
   "cell_type": "code",
   "execution_count": null,
   "id": "d0e879c7",
   "metadata": {},
   "outputs": [],
   "source": [
    "from langchain_groq import ChatGroq\n",
    "from dotenv import load_dotenv\n",
    "from langchain.chains.combine_documents import create_stuff_documents_chain\n",
    "llm = ChatGroq(model=\"llama3-8b-8192\")\n",
    "load_dotenv()\n",
    "from langchain_core.prompts import ChatPromptTemplate\n",
    "prompt=ChatPromptTemplate.from_template('''\n",
    "Answer the following based only on the provided context.\n",
    "Think step by step before answering.\n",
    "I will tip you $1000 if answers are correct.\n",
    "<context>{context}</context>\n",
    "Question: {input}\n",
    "''')\n",
    "document_chain=create_stuff_documents_chain(llm,prompt)"
   ]
  },
  {
   "cell_type": "code",
   "execution_count": null,
   "id": "761f9291",
   "metadata": {},
   "outputs": [
    {
     "data": {
      "text/plain": [
       "VectorStoreRetriever(tags=['FAISS', 'HuggingFaceEmbeddings'], vectorstore=<langchain_community.vectorstores.faiss.FAISS object at 0x313057d90>, search_kwargs={})"
      ]
     },
     "execution_count": 60,
     "metadata": {},
     "output_type": "execute_result"
    }
   ],
   "source": [
    "retreiver=db1.as_retriever()\n",
    "retreiver"
   ]
  },
  {
   "cell_type": "code",
   "execution_count": null,
   "id": "637dcbdc",
   "metadata": {},
   "outputs": [],
   "source": [
    "from langchain.chains import create_retrieval_chain\n",
    "retreival_chain=create_retrieval_chain(retreiver,document_chain)"
   ]
  },
  {
   "cell_type": "code",
   "execution_count": null,
   "id": "c21558ee",
   "metadata": {},
   "outputs": [
    {
     "name": "stderr",
     "output_type": "stream",
     "text": [
      "/Volumes/MySSD/Siddhant Gupta/projects/LANGCHAIN/Chatbot/venv/lib/python3.13/site-packages/torch/nn/modules/module.py:1762: FutureWarning: `encoder_attention_mask` is deprecated and will be removed in version 4.55.0 for `BertSdpaSelfAttention.forward`.\n",
      "  return forward_call(*args, **kwargs)\n"
     ]
    },
    {
     "data": {
      "text/plain": [
       "{'input': 'What is Epithelial Tissue',\n",
       " 'context': [Document(id='933b238d-cedb-4f9d-a8bf-0a6999e3cb86', metadata={'producer': 'Acrobat Distiller 7.0.5 (Windows)', 'creator': 'Adobe Acrobat 7.0', 'creationdate': '2007-01-12T08:57:45-05:00', 'author': 'Scanlon, Valerie C.; Sanders, Tina', 'moddate': '2007-04-30T22:33:49+02:00', 'title': 'Essentials of Anatomy and Physiology', 'source': 'medical.pdf', 'total_pages': 622, 'page': 21, 'page_label': '22'}, page_content='chemical reactions. Cell structure and function are\\ndiscussed in Chapter 3.\\nTISSUES\\nA tissue is a group of cells with similar structure and\\nfunction. There are four groups of tissues:\\nEpithelial tissues—cover or line body surfaces; some\\nare capable of producing secretions with speciﬁc\\nfunctions. The outer layer of the skin and sweat\\nglands are examples of epithelial tissues. Internal\\nepithelial tissues include the walls of capillaries\\n(squamous epithelium) and the kidney tubules\\n(cuboidal epithelium), as shown in Fig. 1–1.\\n4 Organization and General Plan of the Body\\n01Scanlon(p3)-ch01  8/17/06  10:41 AM  Page 4'),\n",
       "  Document(id='88111732-5fdf-4e8b-af0f-46b269b3e338', metadata={'producer': 'Acrobat Distiller 7.0.5 (Windows)', 'creator': 'Adobe Acrobat 7.0', 'creationdate': '2007-01-12T08:57:45-05:00', 'author': 'Scanlon, Valerie C.; Sanders, Tina', 'moddate': '2007-04-30T22:33:49+02:00', 'title': 'Essentials of Anatomy and Physiology', 'source': 'medical.pdf', 'total_pages': 622, 'page': 85, 'page_label': '86'}, page_content='CHAPTER 4\\nChapter Outline\\nEpithelial Tissue\\nSimple Squamous Epithelium\\nStratiﬁed Squamous Epithelium\\nT ransitional Epithelium\\nSimple Cuboidal Epithelium\\nSimple Columnar Epithelium\\nCiliated Epithelium\\nGlands\\nUnicellular glands\\nMulticellular glands\\nConnective Tissue\\nBlood\\nAreolar Connective Tissue\\nAdipose Tissue\\nFibrous Connective Tissue\\nElastic Connective Tissue\\nBone\\nCartilage\\nMuscle Tissue\\nSkeletal Muscle\\nSmooth Muscle\\nCardiac Muscle\\nNerve Tissue\\nMembranes\\nEpithelial Membranes\\nSerous membranes\\nMucous membranes\\nConnective Tissue Membranes\\nAging and Tissues\\n68\\nBOX 4–1 CYSTIC FIBROSIS\\nBOX 4–2 VITAMIN C AND COLLAGEN\\nBOX 4–3 COSMETIC COLLAGEN\\nStudent Objectives\\n• Describe the general characteristics of each of the\\nfour major categories of tissues.\\n• Describe the functions of the types of epithelial\\ntissues with respect to the organs in which they\\nare found.\\n• Describe the functions of the connective tissues,\\nand relate them to the functioning of the body or\\na speciﬁc organ system.'),\n",
       "  Document(id='a189a442-7fbd-4b2f-9884-aefae5585482', metadata={'producer': 'Acrobat Distiller 7.0.5 (Windows)', 'creator': 'Adobe Acrobat 7.0', 'creationdate': '2007-01-12T08:57:45-05:00', 'author': 'Scanlon, Valerie C.; Sanders, Tina', 'moddate': '2007-04-30T22:33:49+02:00', 'title': 'Essentials of Anatomy and Physiology', 'source': 'medical.pdf', 'total_pages': 622, 'page': 87, 'page_label': '88'}, page_content='Atissue is a group of cells with similar structure\\nand function. The tissue contributes to the function-\\ning of the organs in which it is found. Y ou may recall\\nthat in Chapter 1 the four major groups of tissues were\\nnamed and very brieﬂy described. These four groups\\nare epithelial, connective, muscle, and nerve tissue.\\nThis chapter presents more detailed descriptions of\\nthe tissues in these four categories. For each tissue, its\\nfunctions are related to the organs of which it is a part.\\nAlso in this chapter is a discussion of membranes,\\nwhich are sheets of tissues. As you might expect, each\\ntype of membrane has its speciﬁc locations and func-\\ntions.\\nEPITHELIAL TISSUE\\nEpithelial tissues are found on surfaces as either cov-\\nerings (outer surfaces) or linings (inner surfaces).\\nBecause they have no capillaries of their own, epithe-\\nlial tissues receive oxygen and nutrients from the\\nblood supply of the connective tissue beneath them.\\nMany epithelial tissues are capable of secretion and'),\n",
       "  Document(id='198f2f5e-85d3-4ad1-ad2c-60a6504d4611', metadata={'producer': 'Acrobat Distiller 7.0.5 (Windows)', 'creator': 'Adobe Acrobat 7.0', 'creationdate': '2007-01-12T08:57:45-05:00', 'author': 'Scanlon, Valerie C.; Sanders, Tina', 'moddate': '2007-04-30T22:33:49+02:00', 'title': 'Essentials of Anatomy and Physiology', 'source': 'medical.pdf', 'total_pages': 622, 'page': 87, 'page_label': '88'}, page_content='lial tissues receive oxygen and nutrients from the\\nblood supply of the connective tissue beneath them.\\nMany epithelial tissues are capable of secretion and\\nmay be called glandular epithelium, or more simply,\\nglands.\\nClassiﬁcation of the epithelial tissues is based on\\nthe type of cell of which the tissue is made, its charac-\\nteristic shape, and the number of layers of cells. There\\nare three distinctive shapes: squamous cells are ﬂat,\\ncuboidal cells are cube shaped, and columnar cells\\nare tall and narrow. “ Simple” is the term for a single\\nlayer of cells, and “stratiﬁed” means that many layers\\nof cells are present (Fig. 4–1).\\nSIMPLE SQUAMOUS EPITHELIUM\\nSimple squamous epithelium is a single layer of ﬂat\\ncells (Fig. 4–2). These cells are very thin and very\\nsmooth—these are important physical characteristics.\\nThe alveoli (air sacs) of the lungs are simple squamous\\nepithelium. The thinness of the cells permits the dif-\\nfusion of gases between the air and blood.')],\n",
       " 'answer': 'A $1000 question!\\n\\nAccording to the provided context, Epithelial Tissue is defined as:\\n\\n\"A tissue is a group of cells with similar structure and function. ... There are four groups of tissues: ... Epithelial tissues—cover or line body surfaces; some are capable of producing secretions with specific functions.\"\\n\\nIn other words, Epithelial Tissue is a group of cells that share similar structure and function, and are found on the surface of the body or lining internal cavities, with some of them capable of producing secretions with specific functions.'}"
      ]
     },
     "execution_count": 62,
     "metadata": {},
     "output_type": "execute_result"
    }
   ],
   "source": [
    "retreival_chain.invoke({\"input\":\"What is Epithelial Tissue\"})"
   ]
  },
  {
   "cell_type": "code",
   "execution_count": null,
   "id": "a2aeb157",
   "metadata": {},
   "outputs": [
    {
     "name": "stderr",
     "output_type": "stream",
     "text": [
      "/Volumes/MySSD/Siddhant Gupta/projects/LANGCHAIN/Chatbot/venv/lib/python3.13/site-packages/torch/nn/modules/module.py:1762: FutureWarning: `encoder_attention_mask` is deprecated and will be removed in version 4.55.0 for `BertSdpaSelfAttention.forward`.\n",
      "  return forward_call(*args, **kwargs)\n"
     ]
    },
    {
     "data": {
      "text/plain": [
       "'A simple one!\\n\\nAccording to the context, the authors of this book are:\\n\\n1. Valerie C. Scanlon\\n2. Tina Sanders'"
      ]
     },
     "execution_count": 64,
     "metadata": {},
     "output_type": "execute_result"
    }
   ],
   "source": [
    "response=retreival_chain.invoke({\"input\":\"who is the author of this book\"})\n",
    "response['answer']"
   ]
  }
 ],
 "metadata": {
  "kernelspec": {
   "display_name": "venv (3.13.5)",
   "language": "python",
   "name": "python3"
  },
  "language_info": {
   "codemirror_mode": {
    "name": "ipython",
    "version": 3
   },
   "file_extension": ".py",
   "mimetype": "text/x-python",
   "name": "python",
   "nbconvert_exporter": "python",
   "pygments_lexer": "ipython3",
   "version": "3.13.5"
  }
 },
 "nbformat": 4,
 "nbformat_minor": 5
}
